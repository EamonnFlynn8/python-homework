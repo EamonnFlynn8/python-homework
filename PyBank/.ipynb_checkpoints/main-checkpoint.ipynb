{
 "cells": [
  {
   "cell_type": "code",
   "execution_count": 205,
   "id": "eb283af7-197f-4ba5-823d-7d32b4cadb8c",
   "metadata": {},
   "outputs": [],
   "source": [
    "# Import the pathlib and csv library\n",
    "from pathlib import Path\n",
    "import csv\n",
    "\n",
    "# Initialize the metric variables\n",
    "count = 0\n",
    "total = 0\n",
    "average = 0\n",
    "minimum = 0\n",
    "maximum = 0\n",
    "line_num = 0\n",
    "total_change = 0\n",
    "# Initialize lists to hold profitable and unprofitable months profits/losses\n",
    "pnls = []\n",
    "\n",
    "profitable_months = []\n",
    "\n",
    "unprofitable_months = [] \n",
    "\n"
   ]
  },
  {
   "cell_type": "code",
   "execution_count": 206,
   "id": "18ecc7f4-c43e-4c35-b24f-d903f898b22d",
   "metadata": {},
   "outputs": [],
   "source": [
    "# Set the file path\n",
    "csvpath = Path('C:/Users/Eamonn/Desktop/Resources/budget_data.csv')\n",
    "\n"
   ]
  },
  {
   "cell_type": "code",
   "execution_count": 207,
   "id": "bad0c352-8228-45b7-b99d-7cd1a650f5f4",
   "metadata": {},
   "outputs": [
    {
     "name": "stdout",
     "output_type": "stream",
     "text": [
      "<class '_csv.reader'>\n",
      "['Date', 'Profit/Losses']\n",
      "['Jan-2010', '867884']\n",
      "Jan-2010\n",
      "867884\n",
      "['Feb-2010', '984655']\n",
      "Feb-2010\n",
      "984655\n",
      "['Mar-2010', '322013']\n",
      "Mar-2010\n",
      "322013\n",
      "['Apr-2010', '-69417']\n",
      "Apr-2010\n",
      "-69417\n",
      "['May-2010', '310503']\n",
      "May-2010\n",
      "310503\n",
      "['Jun-2010', '522857']\n",
      "Jun-2010\n",
      "522857\n",
      "['Jul-2010', '1033096']\n",
      "Jul-2010\n",
      "1033096\n",
      "['Aug-2010', '604885']\n",
      "Aug-2010\n",
      "604885\n",
      "['Sep-2010', '-216386']\n",
      "Sep-2010\n",
      "-216386\n",
      "['Oct-2010', '477532']\n",
      "Oct-2010\n",
      "477532\n",
      "['Nov-2010', '893810']\n",
      "Nov-2010\n",
      "893810\n",
      "['Dec-2010', '-80353']\n",
      "Dec-2010\n",
      "-80353\n",
      "['Jan-2011', '779806']\n",
      "Jan-2011\n",
      "779806\n",
      "['Feb-2011', '-335203']\n",
      "Feb-2011\n",
      "-335203\n",
      "['Mar-2011', '697845']\n",
      "Mar-2011\n",
      "697845\n",
      "['Apr-2011', '793163']\n",
      "Apr-2011\n",
      "793163\n",
      "['May-2011', '485070']\n",
      "May-2011\n",
      "485070\n",
      "['Jun-2011', '584122']\n",
      "Jun-2011\n",
      "584122\n",
      "['Jul-2011', '62729']\n",
      "Jul-2011\n",
      "62729\n",
      "['Aug-2011', '668179']\n",
      "Aug-2011\n",
      "668179\n",
      "['Sep-2011', '899906']\n",
      "Sep-2011\n",
      "899906\n",
      "['Oct-2011', '834719']\n",
      "Oct-2011\n",
      "834719\n",
      "['Nov-2011', '132003']\n",
      "Nov-2011\n",
      "132003\n",
      "['Dec-2011', '309978']\n",
      "Dec-2011\n",
      "309978\n",
      "['Jan-2012', '-755566']\n",
      "Jan-2012\n",
      "-755566\n",
      "['Feb-2012', '1170593']\n",
      "Feb-2012\n",
      "1170593\n",
      "['Mar-2012', '252788']\n",
      "Mar-2012\n",
      "252788\n",
      "['Apr-2012', '1151518']\n",
      "Apr-2012\n",
      "1151518\n",
      "['May-2012', '817256']\n",
      "May-2012\n",
      "817256\n",
      "['Jun-2012', '570757']\n",
      "Jun-2012\n",
      "570757\n",
      "['Jul-2012', '506702']\n",
      "Jul-2012\n",
      "506702\n",
      "['Aug-2012', '-1022534']\n",
      "Aug-2012\n",
      "-1022534\n",
      "['Sep-2012', '475062']\n",
      "Sep-2012\n",
      "475062\n",
      "['Oct-2012', '779976']\n",
      "Oct-2012\n",
      "779976\n",
      "['Nov-2012', '144175']\n",
      "Nov-2012\n",
      "144175\n",
      "['Dec-2012', '542494']\n",
      "Dec-2012\n",
      "542494\n",
      "['Jan-2013', '359333']\n",
      "Jan-2013\n",
      "359333\n",
      "['Feb-2013', '321469']\n",
      "Feb-2013\n",
      "321469\n",
      "['Mar-2013', '67780']\n",
      "Mar-2013\n",
      "67780\n",
      "['Apr-2013', '471435']\n",
      "Apr-2013\n",
      "471435\n",
      "['May-2013', '565603']\n",
      "May-2013\n",
      "565603\n",
      "['Jun-2013', '872480']\n",
      "Jun-2013\n",
      "872480\n",
      "['Jul-2013', '789480']\n",
      "Jul-2013\n",
      "789480\n",
      "['Aug-2013', '999942']\n",
      "Aug-2013\n",
      "999942\n",
      "['Sep-2013', '-1196225']\n",
      "Sep-2013\n",
      "-1196225\n",
      "['Oct-2013', '268997']\n",
      "Oct-2013\n",
      "268997\n",
      "['Nov-2013', '-687986']\n",
      "Nov-2013\n",
      "-687986\n",
      "['Dec-2013', '1150461']\n",
      "Dec-2013\n",
      "1150461\n",
      "['Jan-2014', '682458']\n",
      "Jan-2014\n",
      "682458\n",
      "['Feb-2014', '617856']\n",
      "Feb-2014\n",
      "617856\n",
      "['Mar-2014', '824098']\n",
      "Mar-2014\n",
      "824098\n",
      "['Apr-2014', '581943']\n",
      "Apr-2014\n",
      "581943\n",
      "['May-2014', '132864']\n",
      "May-2014\n",
      "132864\n",
      "['Jun-2014', '448062']\n",
      "Jun-2014\n",
      "448062\n",
      "['Jul-2014', '689161']\n",
      "Jul-2014\n",
      "689161\n",
      "['Aug-2014', '800701']\n",
      "Aug-2014\n",
      "800701\n",
      "['Sep-2014', '1166643']\n",
      "Sep-2014\n",
      "1166643\n",
      "['Oct-2014', '947333']\n",
      "Oct-2014\n",
      "947333\n",
      "['Nov-2014', '578668']\n",
      "Nov-2014\n",
      "578668\n",
      "['Dec-2014', '988505']\n",
      "Dec-2014\n",
      "988505\n",
      "['Jan-2015', '1139715']\n",
      "Jan-2015\n",
      "1139715\n",
      "['Feb-2015', '1029471']\n",
      "Feb-2015\n",
      "1029471\n",
      "['Mar-2015', '687533']\n",
      "Mar-2015\n",
      "687533\n",
      "['Apr-2015', '-524626']\n",
      "Apr-2015\n",
      "-524626\n",
      "['May-2015', '158620']\n",
      "May-2015\n",
      "158620\n",
      "['Jun-2015', '87795']\n",
      "Jun-2015\n",
      "87795\n",
      "['Jul-2015', '423389']\n",
      "Jul-2015\n",
      "423389\n",
      "['Aug-2015', '840723']\n",
      "Aug-2015\n",
      "840723\n",
      "['Sep-2015', '568529']\n",
      "Sep-2015\n",
      "568529\n",
      "['Oct-2015', '332067']\n",
      "Oct-2015\n",
      "332067\n",
      "['Nov-2015', '989499']\n",
      "Nov-2015\n",
      "989499\n",
      "['Dec-2015', '778237']\n",
      "Dec-2015\n",
      "778237\n",
      "['Jan-2016', '650000']\n",
      "Jan-2016\n",
      "650000\n",
      "['Feb-2016', '-1100387']\n",
      "Feb-2016\n",
      "-1100387\n",
      "['Mar-2016', '-174946']\n",
      "Mar-2016\n",
      "-174946\n",
      "['Apr-2016', '757143']\n",
      "Apr-2016\n",
      "757143\n",
      "['May-2016', '445709']\n",
      "May-2016\n",
      "445709\n",
      "['Jun-2016', '712961']\n",
      "Jun-2016\n",
      "712961\n",
      "['Jul-2016', '-1163797']\n",
      "Jul-2016\n",
      "-1163797\n",
      "['Aug-2016', '569899']\n",
      "Aug-2016\n",
      "569899\n",
      "['Sep-2016', '768450']\n",
      "Sep-2016\n",
      "768450\n",
      "['Oct-2016', '102685']\n",
      "Oct-2016\n",
      "102685\n",
      "['Nov-2016', '795914']\n",
      "Nov-2016\n",
      "795914\n",
      "['Dec-2016', '60988']\n",
      "Dec-2016\n",
      "60988\n",
      "['Jan-2017', '138230']\n",
      "Jan-2017\n",
      "138230\n",
      "['Feb-2017', '671099']\n",
      "Feb-2017\n",
      "671099\n"
     ]
    }
   ],
   "source": [
    "with open(csvpath, 'r') as csvfile:\n",
    "\n",
    "    # Pass in the csv file to the csv.reader() function\n",
    "    # (with ',' as the delmiter/separator) and return the csvreader object\n",
    "    csvreader = csv.reader(csvfile, delimiter=',')\n",
    "    \n",
    "    print(type(csvreader))\n",
    "\n",
    "    # Read the header row first (skip this step if there is no header)\n",
    "    csv_header = next(csvreader)\n",
    "    line_num += 1\n",
    "    # Print the header\n",
    "    print(csv_header)\n",
    " # Read each row of data after the header\n",
    "    for row in csvreader:\n",
    "        # Print the row\n",
    "        print(row)\n",
    "        \n",
    "        #Test to see if Date prints \n",
    "        date = row[0]\n",
    "        print(date)\n",
    "        \n",
    "        #Create a list of all the months and make a pnls an integer in order to append it to a list \n",
    "        pnl = int(row[1])\n",
    "        print(pnl)\n",
    "        pnls.append(pnl)\n",
    "\n",
    "    "
   ]
  },
  {
   "cell_type": "code",
   "execution_count": 208,
   "id": "c704ddca-38b3-41cf-932c-f6cb3e2fd630",
   "metadata": {},
   "outputs": [
    {
     "name": "stdout",
     "output_type": "stream",
     "text": [
      "[867884, 984655, 322013, -69417, 310503, 522857, 1033096, 604885, -216386, 477532, 893810, -80353, 779806, -335203, 697845, 793163, 485070, 584122, 62729, 668179, 899906, 834719, 132003, 309978, -755566, 1170593, 252788, 1151518, 817256, 570757, 506702, -1022534, 475062, 779976, 144175, 542494, 359333, 321469, 67780, 471435, 565603, 872480, 789480, 999942, -1196225, 268997, -687986, 1150461, 682458, 617856, 824098, 581943, 132864, 448062, 689161, 800701, 1166643, 947333, 578668, 988505, 1139715, 1029471, 687533, -524626, 158620, 87795, 423389, 840723, 568529, 332067, 989499, 778237, 650000, -1100387, -174946, 757143, 445709, 712961, -1163797, 569899, 768450, 102685, 795914, 60988, 138230, 671099]\n"
     ]
    }
   ],
   "source": [
    "# Test to see if list works \n",
    "print(pnls)"
   ]
  },
  {
   "cell_type": "code",
   "execution_count": 209,
   "id": "8ab89d85-6bd6-4e6c-bf8a-88fdc731fb6b",
   "metadata": {},
   "outputs": [
    {
     "name": "stdout",
     "output_type": "stream",
     "text": [
      "86\n"
     ]
    }
   ],
   "source": [
    "print(len(pnls))\n",
    "#Find length of how many months for first answer "
   ]
  },
  {
   "cell_type": "code",
   "execution_count": 210,
   "id": "4151e75d-08e4-4207-a17f-aab9f82fccc6",
   "metadata": {},
   "outputs": [],
   "source": [
    "# Separate the profitable months from the unprofitable and sort them into their repsective lists\n",
    "\n",
    "\n",
    "for monthly_pnl in pnls:\n",
    "    \n",
    "    if minimum == 0:\n",
    "        minimum = monthly_pnl\n",
    "    elif monthly_pnl < minimum:\n",
    "        minimum = monthly_pnl\n",
    "    elif monthly_pnl > maximum:\n",
    "        maximum = monthly_pnl\n",
    "        \n",
    "    if monthly_pnl > 0:\n",
    "        profitable_months.append(monthly_pnl)\n",
    "    elif monthly_pnl <= 0:\n",
    "        unprofitable_months.append(monthly_pnl)"
   ]
  },
  {
   "cell_type": "code",
   "execution_count": 211,
   "id": "b4ac1e14-1812-410c-9b9b-d4233c9b3af5",
   "metadata": {},
   "outputs": [
    {
     "name": "stdout",
     "output_type": "stream",
     "text": [
      "74\n",
      "[867884, 984655, 322013, 310503, 522857, 1033096, 604885, 477532, 893810, 779806, 697845, 793163, 485070, 584122, 62729, 668179, 899906, 834719, 132003, 309978, 1170593, 252788, 1151518, 817256, 570757, 506702, 475062, 779976, 144175, 542494, 359333, 321469, 67780, 471435, 565603, 872480, 789480, 999942, 268997, 1150461, 682458, 617856, 824098, 581943, 132864, 448062, 689161, 800701, 1166643, 947333, 578668, 988505, 1139715, 1029471, 687533, 158620, 87795, 423389, 840723, 568529, 332067, 989499, 778237, 650000, 757143, 445709, 712961, 569899, 768450, 102685, 795914, 60988, 138230, 671099]\n"
     ]
    }
   ],
   "source": [
    "# Test to see if profitable months list works \n",
    "print(len(profitable_months))\n",
    "\n",
    "print(profitable_months)"
   ]
  },
  {
   "cell_type": "code",
   "execution_count": 212,
   "id": "5857a252-4280-4869-85b7-19ab74577b92",
   "metadata": {},
   "outputs": [
    {
     "name": "stdout",
     "output_type": "stream",
     "text": [
      "12\n",
      "[-69417, -216386, -80353, -335203, -755566, -1022534, -1196225, -687986, -524626, -1100387, -174946, -1163797]\n"
     ]
    }
   ],
   "source": [
    "# Test to see if list of unprofitable months work \n",
    "print(len(unprofitable_months))\n",
    "\n",
    "print(unprofitable_months)"
   ]
  },
  {
   "cell_type": "code",
   "execution_count": 213,
   "id": "0a571189-46a0-4ac0-b764-70b5f3485294",
   "metadata": {},
   "outputs": [
    {
     "name": "stdout",
     "output_type": "stream",
     "text": [
      "38382578\n",
      "1170593\n"
     ]
    }
   ],
   "source": [
    "# Sum of profits and losses test to find the second part to the question \n",
    "total = sum(pnls)\n",
    "print(total)\n",
    "\n",
    "print(max(profitable_months))"
   ]
  },
  {
   "cell_type": "code",
   "execution_count": 204,
   "id": "ddce9a27-f66f-4d44-a1b7-3c18e9fc8d39",
   "metadata": {},
   "outputs": [
    {
     "name": "stdout",
     "output_type": "stream",
     "text": [
      "86\n"
     ]
    }
   ],
   "source": [
    "#Make sure first answer to the question matches prompt \n",
    "count = len(pnls)\n",
    "print(count)"
   ]
  },
  {
   "cell_type": "code",
   "execution_count": 198,
   "id": "83cddcd4-1c3e-41b5-b175-946e294fb35b",
   "metadata": {},
   "outputs": [
    {
     "name": "stdout",
     "output_type": "stream",
     "text": [
      "[867884, 984655, 322013, -69417, 310503, 522857, 1033096, 604885, -216386, 477532, 893810, -80353, 779806, -335203, 697845, 793163, 485070, 584122, 62729, 668179, 899906, 834719, 132003, 309978, -755566, 1170593, 252788, 1151518, 817256, 570757, 506702, -1022534, 475062, 779976, 144175, 542494, 359333, 321469, 67780, 471435, 565603, 872480, 789480, 999942, -1196225, 268997, -687986, 1150461, 682458, 617856, 824098, 581943, 132864, 448062, 689161, 800701, 1166643, 947333, 578668, 988505, 1139715, 1029471, 687533, -524626, 158620, 87795, 423389, 840723, 568529, 332067, 989499, 778237, 650000, -1100387, -174946, 757143, 445709, 712961, -1163797, 569899, 768450, 102685, 795914, 60988, 138230, 671099]\n"
     ]
    }
   ],
   "source": [
    "print(pnls)"
   ]
  },
  {
   "cell_type": "code",
   "execution_count": 199,
   "id": "6d16afc1-dc70-4b01-8c63-08086f611d1f",
   "metadata": {},
   "outputs": [
    {
     "ename": "IndentationError",
     "evalue": "expected an indented block (38411255.py, line 4)",
     "output_type": "error",
     "traceback": [
      "\u001b[1;36m  File \u001b[1;32m\"C:\\Users\\Eamonn\\AppData\\Local\\Temp\\ipykernel_29276\\38411255.py\"\u001b[1;36m, line \u001b[1;32m4\u001b[0m\n\u001b[1;33m    \u001b[0m\n\u001b[1;37m    ^\u001b[0m\n\u001b[1;31mIndentationError\u001b[0m\u001b[1;31m:\u001b[0m expected an indented block\n"
     ]
    }
   ],
   "source": [
    "#Make a list called monthy_change in order to find the marginal differences by month in the following for loop\n",
    "\n",
    "monthly_change = []\n",
    "for row in csvreader:\n",
    "    \n",
    " "
   ]
  },
  {
   "cell_type": "code",
   "execution_count": null,
   "id": "7e27c71c-9c90-45e7-b0b3-42e8ccb362e9",
   "metadata": {},
   "outputs": [],
   "source": []
  }
 ],
 "metadata": {
  "kernelspec": {
   "display_name": "Python 3 (ipykernel)",
   "language": "python",
   "name": "python3"
  },
  "language_info": {
   "codemirror_mode": {
    "name": "ipython",
    "version": 3
   },
   "file_extension": ".py",
   "mimetype": "text/x-python",
   "name": "python",
   "nbconvert_exporter": "python",
   "pygments_lexer": "ipython3",
   "version": "3.9.13"
  }
 },
 "nbformat": 4,
 "nbformat_minor": 5
}
